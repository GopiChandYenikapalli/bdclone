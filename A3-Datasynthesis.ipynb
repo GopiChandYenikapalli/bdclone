{
 "cells": [
  {
   "cell_type": "markdown",
   "metadata": {},
   "source": [
    "# Synthesize the JSON dataset related to product sales"
   ]
  },
  {
   "cell_type": "markdown",
   "metadata": {},
   "source": [
    "I'll generate a sample dataset related to product sales. The dataset will have the following fields:\n",
    "\n",
    "1. product_id: A unique identifier for the product.\n",
    "2. product_name: Name of the product.\n",
    "3. category: Category to which the product belongs (electronics, apparel, accessories).\n",
    "4. price: Price of the product.\n",
    "5. sold_units: Number of units sold.\n",
    "\n",
    "I'll generate data for 100 products."
   ]
  },
  {
   "cell_type": "code",
   "execution_count": 4,
   "metadata": {},
   "outputs": [
    {
     "data": {
      "text/plain": [
       "'sales_data.bson'"
      ]
     },
     "execution_count": 4,
     "metadata": {},
     "output_type": "execute_result"
    }
   ],
   "source": [
    "import random\n",
    "import json\n",
    "\n",
    "# Sample product names and categories to synthesize the data\n",
    "product_names = [\"Laptop\", \"Smartphone\", \"TV\", \"Camera\", \"Shirt\", \"Shoe\", \"Hat\", \"Watch\", \"Backpack\", \"Book\"]\n",
    "categories = [\"Electronics\", \"Apparel\", \"Accessories\"]\n",
    "\n",
    "# Synthesize the dataset\n",
    "data = []\n",
    "\n",
    "for i in range(100):\n",
    "    product = {\n",
    "        \"product_id\": i+1,\n",
    "        \"product_name\": random.choice(product_names),\n",
    "        \"category\": random.choice(categories),\n",
    "        \"price\": round(random.uniform(10, 1000), 2),  # Price between 10 and 1000\n",
    "        \"sold_units\": random.randint(1, 500)          # Units sold between 1 and 500\n",
    "    }\n",
    "    data.append(product)\n",
    "\n",
    "# Save the synthesized data to a JSON file\n",
    "file_path = \"sales_data.bson\"\n",
    "with open(file_path, 'w') as f:\n",
    "    json.dump(data, f)\n",
    "\n",
    "file_path\n"
   ]
  },
  {
   "cell_type": "markdown",
   "metadata": {},
   "source": [
    "I've synthesized a sample dataset related to product sales and saved it to a JSON file named sales_data.bson."
   ]
  }
 ],
 "metadata": {
  "kernelspec": {
   "display_name": "Python 3",
   "language": "python",
   "name": "python3"
  },
  "language_info": {
   "codemirror_mode": {
    "name": "ipython",
    "version": 3
   },
   "file_extension": ".py",
   "mimetype": "text/x-python",
   "name": "python",
   "nbconvert_exporter": "python",
   "pygments_lexer": "ipython3",
   "version": "3.11.4"
  },
  "orig_nbformat": 4
 },
 "nbformat": 4,
 "nbformat_minor": 2
}
